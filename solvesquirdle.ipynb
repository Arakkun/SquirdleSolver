{
 "cells": [
  {
   "cell_type": "markdown",
   "metadata": {},
   "source": [
    "# Based on https://www.youtube.com/watch?v=v68zYyaEmEA\n",
    "We can try solving squirdle using information theory.\n",
    "given the smaller search space and the type of things to guess this will be much easier.\n",
    "\n",
    "Each entry has 5 fields:\n",
    "- Gen: from 1 to 8. Result of a guess can be More(+), Less(-) or Equal(=) \n",
    "- Type 1: categorial. Result of a guess can be Not Correct(X), Different Place(↔) or Equal (=)\n",
    "- Type 2: categorial. Result of a guess can be Not Correct(X), Different Place(↔) or Equal (=)\n",
    "- Height: float number. Result of a guess can be More(+), Less(-) or Equal(=) \n",
    "- Weight: float number. Result of a guess can be More(+), Less(-) or Equal(=) \n",
    "\n",
    "But differently, every result is as likely as others ( meaning the probability of the answer being Squirtle is the same as being Charmender ) \n",
    "So the \"information gain\" will just be equal to log(N_AFTER/N_BEFORE) as probability of a certain result being possility is N_AFTER/N_BEFORE.\n",
    "The entropy will be just the \"average\" information gain"
   ]
  },
  {
   "cell_type": "code",
   "execution_count": 1,
   "metadata": {},
   "outputs": [],
   "source": [
    "import pandas as pd\n",
    "import numpy as np\n",
    "from IPython.display import Markdown, display\n",
    "def printWithMarkdown(string:str):\n",
    "    display(Markdown(string))\n",
    "\n",
    "def printDfWithMarkdown(df:pd.DataFrame):\n",
    "    printWithMarkdown(df.to_markdown())"
   ]
  },
  {
   "cell_type": "code",
   "execution_count": 2,
   "metadata": {},
   "outputs": [],
   "source": [
    "pokedex = pd.read_json(\"pokedex.json\", orient='index')\n",
    "pokedex.columns=[\"Gen\",\"Type 1\",\"Type 2\", \"Height\",\"Weight\"]"
   ]
  },
  {
   "cell_type": "code",
   "execution_count": 3,
   "metadata": {},
   "outputs": [
    {
     "data": {
      "text/markdown": [
       "|           |   Gen | Type 1   | Type 2   |   Height |   Weight |\n",
       "|:----------|------:|:---------|:---------|---------:|---------:|\n",
       "| Zigzagoon |     3 | Normal   |          |      0.4 |     17.5 |\n",
       "| Linoone   |     3 | Normal   |          |      0.5 |     32.5 |\n",
       "| Slakoth   |     3 | Normal   |          |      0.8 |     24   |\n",
       "| Vigoroth  |     3 | Normal   |          |      1.4 |     46.5 |\n",
       "| Slaking   |     3 | Normal   |          |      2   |    130.5 |\n",
       "| Whismur   |     3 | Normal   |          |      0.6 |     16.3 |\n",
       "| Loudred   |     3 | Normal   |          |      1   |     40.5 |\n",
       "| Exploud   |     3 | Normal   |          |      1.5 |     84   |\n",
       "| Skitty    |     3 | Normal   |          |      0.6 |     11   |\n",
       "| Delcatty  |     3 | Normal   |          |      1.1 |     32.6 |\n",
       "| Spinda    |     3 | Normal   |          |      1.1 |      5   |\n",
       "| Zangoose  |     3 | Normal   |          |      1.3 |     40.3 |\n",
       "| Castform  |     3 | Normal   |          |      0.3 |      0.8 |\n",
       "| Kecleon   |     3 | Normal   |          |      1   |     22   |"
      ],
      "text/plain": [
       "<IPython.core.display.Markdown object>"
      ]
     },
     "metadata": {},
     "output_type": "display_data"
    }
   ],
   "source": [
    "printDfWithMarkdown(pokedex[(pokedex[\"Gen\"]==3) & (pokedex[\"Type 1\"]==\"Normal\") &(pokedex[\"Type 2\"]==\"\")])"
   ]
  },
  {
   "cell_type": "markdown",
   "metadata": {},
   "source": [
    "### Let's correct some datatypes\n",
    "Type 1 and Type 2 are categorial data, basically!"
   ]
  },
  {
   "cell_type": "code",
   "execution_count": 4,
   "metadata": {},
   "outputs": [
    {
     "data": {
      "text/plain": [
       "Gen         int64\n",
       "Type 1     object\n",
       "Type 2     object\n",
       "Height    float64\n",
       "Weight    float64\n",
       "dtype: object"
      ]
     },
     "execution_count": 4,
     "metadata": {},
     "output_type": "execute_result"
    }
   ],
   "source": [
    "pokedex.dtypes"
   ]
  },
  {
   "cell_type": "code",
   "execution_count": 5,
   "metadata": {},
   "outputs": [],
   "source": [
    "pokedex[\"Type 1\"] = pokedex[\"Type 1\"].astype(\"category\")\n",
    "pokedex[\"Type 2\"] = pokedex[\"Type 2\"].astype(\"category\")\n"
   ]
  },
  {
   "cell_type": "markdown",
   "metadata": {},
   "source": [
    "### Now lets create a check function\n",
    "This function returns <, > or = for Gen, Weigth and Height, and O, X or <> for the Type 1 and 2"
   ]
  },
  {
   "cell_type": "code",
   "execution_count": 6,
   "metadata": {},
   "outputs": [],
   "source": [
    "def compareInt(valA, valB):\n",
    "    if(valA>valB):\n",
    "        return \"<\"\n",
    "    if(valA<valB):\n",
    "        return \">\"\n",
    "    return \"=\"\n",
    "def compareTypeA(valA1, valB1, valB2):\n",
    "    if(valA1==valB1):\n",
    "        return \"O\"\n",
    "    if(valA1==valB2):\n",
    "        return \"↔\"\n",
    "    return \"X\"\n",
    "def check(guess, answer): # Squirtle, Bibarel\n",
    "    return [compareInt(guess[\"Gen\"],answer[\"Gen\"]), \n",
    "        compareTypeA(guess[\"Type 1\"],answer[\"Type 1\"],answer[\"Type 2\"]), \n",
    "        compareTypeA(guess[\"Type 2\"],answer[\"Type 2\"],answer[\"Type 1\"]), \n",
    "        compareInt(guess[\"Height\"],answer[\"Height\"]), \n",
    "        compareInt(guess[\"Weight\"],answer[\"Weight\"])\n",
    "    ]"
   ]
  },
  {
   "cell_type": "code",
   "execution_count": 7,
   "metadata": {},
   "outputs": [
    {
     "name": "stdout",
     "output_type": "stream",
     "text": [
      "['<', 'X', '↔', '>', '>']\n"
     ]
    }
   ],
   "source": [
    "print(check(pokedex.loc[\"Bibarel\"], pokedex.loc[\"Gyarados\"]))"
   ]
  },
  {
   "cell_type": "markdown",
   "metadata": {},
   "source": [
    "### Lets now filter the the dataframe\n",
    "the numeric can be summarized with a 2-number array, saying the lower and upper bounds\n",
    "the cathegoric will be lists of the various values"
   ]
  },
  {
   "cell_type": "code",
   "execution_count": 8,
   "metadata": {},
   "outputs": [],
   "source": [
    "isin = lambda types : np.vectorize(lambda x: x in types)\n",
    "\n",
    "def filterPokedex(pokedex, gen, type1, type2, height, weight):\n",
    "    index = pokedex.index\n",
    "    values = pokedex.values.T\n",
    "\n",
    "    \n",
    "    indexes = (\n",
    "        (values[0]>=gen[0]) & (values[0] <=gen[1]) & \n",
    "        isin(type1)(values[1]) & isin(type2)(values[2]) &\n",
    "        (values[3]>=height[0]) & (values[3]<=height[1]) &\n",
    "        (values[4]>=weight[0]) & (values[4]<=weight[1]))\n",
    "    return pokedex.loc[index[indexes]]"
   ]
  },
  {
   "cell_type": "code",
   "execution_count": 9,
   "metadata": {},
   "outputs": [
    {
     "data": {
      "text/html": [
       "<div>\n",
       "<style scoped>\n",
       "    .dataframe tbody tr th:only-of-type {\n",
       "        vertical-align: middle;\n",
       "    }\n",
       "\n",
       "    .dataframe tbody tr th {\n",
       "        vertical-align: top;\n",
       "    }\n",
       "\n",
       "    .dataframe thead th {\n",
       "        text-align: right;\n",
       "    }\n",
       "</style>\n",
       "<table border=\"1\" class=\"dataframe\">\n",
       "  <thead>\n",
       "    <tr style=\"text-align: right;\">\n",
       "      <th></th>\n",
       "      <th>Gen</th>\n",
       "      <th>Type 1</th>\n",
       "      <th>Type 2</th>\n",
       "      <th>Height</th>\n",
       "      <th>Weight</th>\n",
       "    </tr>\n",
       "  </thead>\n",
       "  <tbody>\n",
       "    <tr>\n",
       "      <th>Squirtle</th>\n",
       "      <td>1</td>\n",
       "      <td>Water</td>\n",
       "      <td></td>\n",
       "      <td>0.5</td>\n",
       "      <td>9.0</td>\n",
       "    </tr>\n",
       "    <tr>\n",
       "      <th>Wartortle</th>\n",
       "      <td>1</td>\n",
       "      <td>Water</td>\n",
       "      <td></td>\n",
       "      <td>1.0</td>\n",
       "      <td>22.5</td>\n",
       "    </tr>\n",
       "    <tr>\n",
       "      <th>Blastoise</th>\n",
       "      <td>1</td>\n",
       "      <td>Water</td>\n",
       "      <td></td>\n",
       "      <td>1.6</td>\n",
       "      <td>85.5</td>\n",
       "    </tr>\n",
       "    <tr>\n",
       "      <th>Psyduck</th>\n",
       "      <td>1</td>\n",
       "      <td>Water</td>\n",
       "      <td></td>\n",
       "      <td>0.8</td>\n",
       "      <td>19.6</td>\n",
       "    </tr>\n",
       "    <tr>\n",
       "      <th>Golduck</th>\n",
       "      <td>1</td>\n",
       "      <td>Water</td>\n",
       "      <td></td>\n",
       "      <td>1.7</td>\n",
       "      <td>76.6</td>\n",
       "    </tr>\n",
       "    <tr>\n",
       "      <th>Poliwag</th>\n",
       "      <td>1</td>\n",
       "      <td>Water</td>\n",
       "      <td></td>\n",
       "      <td>0.6</td>\n",
       "      <td>12.4</td>\n",
       "    </tr>\n",
       "    <tr>\n",
       "      <th>Poliwhirl</th>\n",
       "      <td>1</td>\n",
       "      <td>Water</td>\n",
       "      <td></td>\n",
       "      <td>1.0</td>\n",
       "      <td>20.0</td>\n",
       "    </tr>\n",
       "    <tr>\n",
       "      <th>Seel</th>\n",
       "      <td>1</td>\n",
       "      <td>Water</td>\n",
       "      <td></td>\n",
       "      <td>1.1</td>\n",
       "      <td>90.0</td>\n",
       "    </tr>\n",
       "    <tr>\n",
       "      <th>Shellder</th>\n",
       "      <td>1</td>\n",
       "      <td>Water</td>\n",
       "      <td></td>\n",
       "      <td>0.3</td>\n",
       "      <td>4.0</td>\n",
       "    </tr>\n",
       "    <tr>\n",
       "      <th>Krabby</th>\n",
       "      <td>1</td>\n",
       "      <td>Water</td>\n",
       "      <td></td>\n",
       "      <td>0.4</td>\n",
       "      <td>6.5</td>\n",
       "    </tr>\n",
       "    <tr>\n",
       "      <th>Kingler</th>\n",
       "      <td>1</td>\n",
       "      <td>Water</td>\n",
       "      <td></td>\n",
       "      <td>1.3</td>\n",
       "      <td>60.0</td>\n",
       "    </tr>\n",
       "    <tr>\n",
       "      <th>Horsea</th>\n",
       "      <td>1</td>\n",
       "      <td>Water</td>\n",
       "      <td></td>\n",
       "      <td>0.4</td>\n",
       "      <td>8.0</td>\n",
       "    </tr>\n",
       "    <tr>\n",
       "      <th>Seadra</th>\n",
       "      <td>1</td>\n",
       "      <td>Water</td>\n",
       "      <td></td>\n",
       "      <td>1.2</td>\n",
       "      <td>25.0</td>\n",
       "    </tr>\n",
       "    <tr>\n",
       "      <th>Goldeen</th>\n",
       "      <td>1</td>\n",
       "      <td>Water</td>\n",
       "      <td></td>\n",
       "      <td>0.6</td>\n",
       "      <td>15.0</td>\n",
       "    </tr>\n",
       "    <tr>\n",
       "      <th>Seaking</th>\n",
       "      <td>1</td>\n",
       "      <td>Water</td>\n",
       "      <td></td>\n",
       "      <td>1.3</td>\n",
       "      <td>39.0</td>\n",
       "    </tr>\n",
       "    <tr>\n",
       "      <th>Staryu</th>\n",
       "      <td>1</td>\n",
       "      <td>Water</td>\n",
       "      <td></td>\n",
       "      <td>0.8</td>\n",
       "      <td>34.5</td>\n",
       "    </tr>\n",
       "    <tr>\n",
       "      <th>Magikarp</th>\n",
       "      <td>1</td>\n",
       "      <td>Water</td>\n",
       "      <td></td>\n",
       "      <td>0.9</td>\n",
       "      <td>10.0</td>\n",
       "    </tr>\n",
       "    <tr>\n",
       "      <th>Vaporeon</th>\n",
       "      <td>1</td>\n",
       "      <td>Water</td>\n",
       "      <td></td>\n",
       "      <td>1.0</td>\n",
       "      <td>29.0</td>\n",
       "    </tr>\n",
       "    <tr>\n",
       "      <th>Totodile</th>\n",
       "      <td>2</td>\n",
       "      <td>Water</td>\n",
       "      <td></td>\n",
       "      <td>0.6</td>\n",
       "      <td>9.5</td>\n",
       "    </tr>\n",
       "    <tr>\n",
       "      <th>Croconaw</th>\n",
       "      <td>2</td>\n",
       "      <td>Water</td>\n",
       "      <td></td>\n",
       "      <td>1.1</td>\n",
       "      <td>25.0</td>\n",
       "    </tr>\n",
       "    <tr>\n",
       "      <th>Feraligatr</th>\n",
       "      <td>2</td>\n",
       "      <td>Water</td>\n",
       "      <td></td>\n",
       "      <td>2.3</td>\n",
       "      <td>88.8</td>\n",
       "    </tr>\n",
       "    <tr>\n",
       "      <th>Politoed</th>\n",
       "      <td>2</td>\n",
       "      <td>Water</td>\n",
       "      <td></td>\n",
       "      <td>1.1</td>\n",
       "      <td>33.9</td>\n",
       "    </tr>\n",
       "    <tr>\n",
       "      <th>Remoraid</th>\n",
       "      <td>2</td>\n",
       "      <td>Water</td>\n",
       "      <td></td>\n",
       "      <td>0.6</td>\n",
       "      <td>12.0</td>\n",
       "    </tr>\n",
       "    <tr>\n",
       "      <th>Octillery</th>\n",
       "      <td>2</td>\n",
       "      <td>Water</td>\n",
       "      <td></td>\n",
       "      <td>0.9</td>\n",
       "      <td>28.5</td>\n",
       "    </tr>\n",
       "  </tbody>\n",
       "</table>\n",
       "</div>"
      ],
      "text/plain": [
       "            Gen Type 1 Type 2  Height  Weight\n",
       "Squirtle      1  Water            0.5     9.0\n",
       "Wartortle     1  Water            1.0    22.5\n",
       "Blastoise     1  Water            1.6    85.5\n",
       "Psyduck       1  Water            0.8    19.6\n",
       "Golduck       1  Water            1.7    76.6\n",
       "Poliwag       1  Water            0.6    12.4\n",
       "Poliwhirl     1  Water            1.0    20.0\n",
       "Seel          1  Water            1.1    90.0\n",
       "Shellder      1  Water            0.3     4.0\n",
       "Krabby        1  Water            0.4     6.5\n",
       "Kingler       1  Water            1.3    60.0\n",
       "Horsea        1  Water            0.4     8.0\n",
       "Seadra        1  Water            1.2    25.0\n",
       "Goldeen       1  Water            0.6    15.0\n",
       "Seaking       1  Water            1.3    39.0\n",
       "Staryu        1  Water            0.8    34.5\n",
       "Magikarp      1  Water            0.9    10.0\n",
       "Vaporeon      1  Water            1.0    29.0\n",
       "Totodile      2  Water            0.6     9.5\n",
       "Croconaw      2  Water            1.1    25.0\n",
       "Feraligatr    2  Water            2.3    88.8\n",
       "Politoed      2  Water            1.1    33.9\n",
       "Remoraid      2  Water            0.6    12.0\n",
       "Octillery     2  Water            0.9    28.5"
      ]
     },
     "execution_count": 9,
     "metadata": {},
     "output_type": "execute_result"
    }
   ],
   "source": [
    "filterPokedex(pokedex, [1,2],[\"Water\"],[\"\"],[0,10],[0,100])"
   ]
  },
  {
   "cell_type": "markdown",
   "metadata": {},
   "source": [
    "### So now we can calculate the Information Gain of a certain guess result. This is only dependant on the number of pokemon before and after the filtering process.\n",
    "I = -log(Pokemon_After/Pokemon_Before)"
   ]
  },
  {
   "cell_type": "code",
   "execution_count": 10,
   "metadata": {},
   "outputs": [],
   "source": [
    "def InformationGain(sizeBefore, sizeAfter):\n",
    "    return - np.log2(sizeAfter/sizeBefore)"
   ]
  },
  {
   "cell_type": "markdown",
   "metadata": {},
   "source": [
    "### The entropy for a given information is the expected value  probability multiplied by the information gain for each possibility\n",
    "the probaility of a given outcome for a certain outcome is just  given each result has the same probability, we can now do a function to create the pokedexes needed and calculate the /result for a certain guess"
   ]
  },
  {
   "cell_type": "code",
   "execution_count": 11,
   "metadata": {},
   "outputs": [],
   "source": [
    "def maxMin(series):\n",
    "    return [series.values.min(), series.values.max()]\n",
    "\n",
    "def applyIntFilter(currentBounds, guessValue, result):\n",
    "    if(result==\">\"):\n",
    "        return[guessValue+0.01, currentBounds[1]]\n",
    "    if(result==\"<\"):\n",
    "        return[currentBounds[0], guessValue-0.01]\n",
    "    return [guessValue, guessValue]\n",
    "\n",
    "def typesSet(series):\n",
    "    return set(series.cat.categories)\n",
    "\n",
    "def filterTypes(types, typeA, typeB, resultA, resultB):\n",
    "    if(resultA ==\"O\"):\n",
    "        return {typeA}\n",
    "    if(resultB == \"↔\"):\n",
    "        return {typeB}\n",
    "    newTypes = types\n",
    "    if(resultA == \"X\"):\n",
    "        newTypes = newTypes-{typeA}\n",
    "    if(resultB == \"X\"):\n",
    "        newTypes = newTypes-{typeB}\n",
    "    return newTypes\n",
    "\n",
    "def returnPokeFilter(guess, currentPokedex, result):\n",
    "    types1 = typesSet(currentPokedex[\"Type 1\"])\n",
    "    types2 = typesSet(currentPokedex[\"Type 2\"])\n",
    "    return filterPokedex(currentPokedex,\n",
    "                         applyIntFilter(maxMin(currentPokedex[\"Gen\"]),guess[\"Gen\"],result[0]),\n",
    "                         filterTypes(types1,guess[\"Type 1\"],guess[\"Type 2\"], result[1], result[2]),\n",
    "                         filterTypes(types2,guess[\"Type 2\"],guess[\"Type 1\"], result[2], result[1]),\n",
    "                         applyIntFilter(maxMin(currentPokedex[\"Height\"]),guess[\"Height\"],result[3]),\n",
    "                         applyIntFilter(maxMin(currentPokedex[\"Weight\"]),guess[\"Weight\"],result[4]),\n",
    "                         )"
   ]
  },
  {
   "cell_type": "code",
   "execution_count": 12,
   "metadata": {},
   "outputs": [],
   "source": [
    "def calculateExpectedEntropyReduction(currentPokedex:pd.DataFrame, guess):\n",
    "    possible_results = np.array(np.meshgrid([\"<\",\">\",\"=\"],[\"O\",\"X\",\"↔\"],[\"O\",\"X\",\"↔\"],[\"<\",\">\",\"=\"],[\"<\",\">\",\"=\"], sparse=False)).T.reshape(-1,5)\n",
    "    entropy = 0\n",
    "    for result in possible_results:\n",
    "        if((\n",
    "                ((result[1]!=\"↔\") | (result[2]!=\"O\")) &\n",
    "                ((result[2]!=\"↔\") | (result[1]!=\"O\"))\n",
    "            )):\n",
    "            # That case is impossible given there is no \"Fire, Fire\" pokemons\n",
    "            reducedPokedex = returnPokeFilter(guess,currentPokedex,result)\n",
    "            if(reducedPokedex.shape[0]!=0):\n",
    "                entropy = entropy + reducedPokedex.shape[0]/currentPokedex.shape[0]*InformationGain(currentPokedex.shape[0],reducedPokedex.shape[0])\n",
    "    return entropy"
   ]
  },
  {
   "cell_type": "code",
   "execution_count": 13,
   "metadata": {},
   "outputs": [
    {
     "data": {
      "text/plain": [
       "3.8071497201022617"
      ]
     },
     "execution_count": 13,
     "metadata": {},
     "output_type": "execute_result"
    }
   ],
   "source": [
    "calculateExpectedEntropyReduction(pokedex,pokedex.loc[\"Alakazam\"])"
   ]
  },
  {
   "cell_type": "code",
   "execution_count": 14,
   "metadata": {},
   "outputs": [
    {
     "data": {
      "text/plain": [
       "4.393503737338698"
      ]
     },
     "execution_count": 14,
     "metadata": {},
     "output_type": "execute_result"
    }
   ],
   "source": [
    "calculateExpectedEntropyReduction(pokedex,pokedex.loc[\"Bibarel\"])"
   ]
  },
  {
   "cell_type": "markdown",
   "metadata": {},
   "source": [
    "### Game itself\n",
    "\n",
    "Now we can go and create the game itself, with a function calculating which guess has the highest expected information gain"
   ]
  },
  {
   "cell_type": "code",
   "execution_count": 15,
   "metadata": {},
   "outputs": [],
   "source": [
    "class Squirdle:\n",
    "    def __init__(self, pokedex, answer):\n",
    "        self.initial_pokedex = pokedex\n",
    "        self.current_pokedex = pokedex\n",
    "        self.answer = answer\n",
    "    def currentEntropy(self):\n",
    "        return np.log2(len(self.current_pokedex))\n",
    "    def guessAName (self, guessName):\n",
    "        guess = self.initial_pokedex.loc[guessName] # Squirtle\n",
    "        answer = self.initial_pokedex.loc[self.answer] # Bibarel\n",
    "        result = check(guess,answer)\n",
    "        if(guessName==self.answer):\n",
    "            return \"Correct\"\n",
    "        self.apply(guess, result)\n",
    "        return result\n",
    "    def apply(self, guess, result):\n",
    "        self.current_pokedex = returnPokeFilter(guess,self.current_pokedex, result)\n",
    "        "
   ]
  },
  {
   "cell_type": "code",
   "execution_count": 16,
   "metadata": {},
   "outputs": [],
   "source": [
    "game = Squirdle(pokedex,\"Charizard\")"
   ]
  },
  {
   "cell_type": "code",
   "execution_count": 17,
   "metadata": {},
   "outputs": [],
   "source": [
    "from tqdm.notebook import tqdm\n",
    "def bestGuess(fullPokedex, currentPokedex):\n",
    "    bestName = \"\"\n",
    "    bestScore = 0\n",
    "    if(currentPokedex.shape[0]==1):\n",
    "        bestName = currentPokedex.index[0]\n",
    "    else:\n",
    "        pbar = tqdm(fullPokedex.index)\n",
    "        for pokemon in pbar:\n",
    "            entropyReduction = calculateExpectedEntropyReduction(currentPokedex, fullPokedex.loc[pokemon])\n",
    "            if(entropyReduction > bestScore):\n",
    "                bestScore=entropyReduction\n",
    "                bestName=pokemon\n",
    "                pbar.set_postfix({\"score\":bestScore,\"name\":bestName})\n",
    "    print(\"Best guess is \", bestName,\" at \", bestScore)\n",
    "    return bestName\n",
    "        "
   ]
  },
  {
   "cell_type": "markdown",
   "metadata": {},
   "source": [
    "For an example play, this is a random one where the answer was \"Spiritomb\""
   ]
  },
  {
   "cell_type": "code",
   "execution_count": 18,
   "metadata": {},
   "outputs": [
    {
     "data": {
      "text/plain": [
       "10.036173612553485"
      ]
     },
     "execution_count": 18,
     "metadata": {},
     "output_type": "execute_result"
    }
   ],
   "source": [
    "game.currentEntropy()"
   ]
  },
  {
   "cell_type": "code",
   "execution_count": 19,
   "metadata": {},
   "outputs": [
    {
     "data": {
      "application/vnd.jupyter.widget-view+json": {
       "model_id": "0b15afb7ddf84b16ae90ff61a1eeef08",
       "version_major": 2,
       "version_minor": 0
      },
      "text/plain": [
       "  0%|          | 0/1050 [00:00<?, ?it/s]"
      ]
     },
     "metadata": {},
     "output_type": "display_data"
    },
    {
     "ename": "NameError",
     "evalue": "name 'entropy' is not defined",
     "output_type": "error",
     "traceback": [
      "\u001b[1;31m---------------------------------------------------------------------------\u001b[0m",
      "\u001b[1;31mNameError\u001b[0m                                 Traceback (most recent call last)",
      "\u001b[1;32me:\\SquirdleSolver\\solvesquirdle.ipynb Cell 27'\u001b[0m in \u001b[0;36m<cell line: 1>\u001b[1;34m()\u001b[0m\n\u001b[1;32m----> <a href='vscode-notebook-cell:/e%3A/SquirdleSolver/solvesquirdle.ipynb#ch0000026?line=0'>1</a>\u001b[0m bestGuess(game\u001b[39m.\u001b[39;49minitial_pokedex, game\u001b[39m.\u001b[39;49mcurrent_pokedex)\n",
      "\u001b[1;32me:\\SquirdleSolver\\solvesquirdle.ipynb Cell 24'\u001b[0m in \u001b[0;36mbestGuess\u001b[1;34m(fullPokedex, currentPokedex)\u001b[0m\n\u001b[0;32m     <a href='vscode-notebook-cell:/e%3A/SquirdleSolver/solvesquirdle.ipynb#ch0000023?line=9'>10</a>\u001b[0m entropyReduction \u001b[39m=\u001b[39m calculateExpectedEntropyReduction(currentPokedex, fullPokedex\u001b[39m.\u001b[39mloc[pokemon])\n\u001b[0;32m     <a href='vscode-notebook-cell:/e%3A/SquirdleSolver/solvesquirdle.ipynb#ch0000023?line=10'>11</a>\u001b[0m \u001b[39mif\u001b[39;00m(entropyReduction \u001b[39m>\u001b[39m bestScore):\n\u001b[1;32m---> <a href='vscode-notebook-cell:/e%3A/SquirdleSolver/solvesquirdle.ipynb#ch0000023?line=11'>12</a>\u001b[0m     bestScore\u001b[39m=\u001b[39mentropy\n\u001b[0;32m     <a href='vscode-notebook-cell:/e%3A/SquirdleSolver/solvesquirdle.ipynb#ch0000023?line=12'>13</a>\u001b[0m     bestName\u001b[39m=\u001b[39mpokemon\n\u001b[0;32m     <a href='vscode-notebook-cell:/e%3A/SquirdleSolver/solvesquirdle.ipynb#ch0000023?line=13'>14</a>\u001b[0m     pbar\u001b[39m.\u001b[39mset_postfix({\u001b[39m\"\u001b[39m\u001b[39mscore\u001b[39m\u001b[39m\"\u001b[39m:bestScore,\u001b[39m\"\u001b[39m\u001b[39mname\u001b[39m\u001b[39m\"\u001b[39m:bestName})\n",
      "\u001b[1;31mNameError\u001b[0m: name 'entropy' is not defined"
     ]
    }
   ],
   "source": [
    "bestGuess(game.initial_pokedex, game.current_pokedex)"
   ]
  },
  {
   "cell_type": "code",
   "execution_count": null,
   "metadata": {},
   "outputs": [
    {
     "data": {
      "text/html": [
       "<div>\n",
       "<style scoped>\n",
       "    .dataframe tbody tr th:only-of-type {\n",
       "        vertical-align: middle;\n",
       "    }\n",
       "\n",
       "    .dataframe tbody tr th {\n",
       "        vertical-align: top;\n",
       "    }\n",
       "\n",
       "    .dataframe thead th {\n",
       "        text-align: right;\n",
       "    }\n",
       "</style>\n",
       "<table border=\"1\" class=\"dataframe\">\n",
       "  <thead>\n",
       "    <tr style=\"text-align: right;\">\n",
       "      <th></th>\n",
       "      <th>Gen</th>\n",
       "      <th>Type 1</th>\n",
       "      <th>Type 2</th>\n",
       "      <th>Height</th>\n",
       "      <th>Weight</th>\n",
       "    </tr>\n",
       "  </thead>\n",
       "  <tbody>\n",
       "    <tr>\n",
       "      <th>Bulbasaur</th>\n",
       "      <td>1</td>\n",
       "      <td>Grass</td>\n",
       "      <td>Poison</td>\n",
       "      <td>0.7</td>\n",
       "      <td>6.9</td>\n",
       "    </tr>\n",
       "    <tr>\n",
       "      <th>Ivysaur</th>\n",
       "      <td>1</td>\n",
       "      <td>Grass</td>\n",
       "      <td>Poison</td>\n",
       "      <td>1.0</td>\n",
       "      <td>13.0</td>\n",
       "    </tr>\n",
       "    <tr>\n",
       "      <th>Venusaur</th>\n",
       "      <td>1</td>\n",
       "      <td>Grass</td>\n",
       "      <td>Poison</td>\n",
       "      <td>2.0</td>\n",
       "      <td>100.0</td>\n",
       "    </tr>\n",
       "    <tr>\n",
       "      <th>Mega Venusaur</th>\n",
       "      <td>6</td>\n",
       "      <td>Grass</td>\n",
       "      <td>Poison</td>\n",
       "      <td>2.4</td>\n",
       "      <td>155.5</td>\n",
       "    </tr>\n",
       "    <tr>\n",
       "      <th>Charmander</th>\n",
       "      <td>1</td>\n",
       "      <td>Fire</td>\n",
       "      <td></td>\n",
       "      <td>0.6</td>\n",
       "      <td>8.5</td>\n",
       "    </tr>\n",
       "    <tr>\n",
       "      <th>...</th>\n",
       "      <td>...</td>\n",
       "      <td>...</td>\n",
       "      <td>...</td>\n",
       "      <td>...</td>\n",
       "      <td>...</td>\n",
       "    </tr>\n",
       "    <tr>\n",
       "      <th>Basculegion</th>\n",
       "      <td>8</td>\n",
       "      <td>Water</td>\n",
       "      <td>Ghost</td>\n",
       "      <td>3.0</td>\n",
       "      <td>110.0</td>\n",
       "    </tr>\n",
       "    <tr>\n",
       "      <th>Sneasler</th>\n",
       "      <td>8</td>\n",
       "      <td>Fighting</td>\n",
       "      <td>Poison</td>\n",
       "      <td>1.3</td>\n",
       "      <td>43.0</td>\n",
       "    </tr>\n",
       "    <tr>\n",
       "      <th>Overqwil</th>\n",
       "      <td>8</td>\n",
       "      <td>Dark</td>\n",
       "      <td>Poison</td>\n",
       "      <td>2.5</td>\n",
       "      <td>60.5</td>\n",
       "    </tr>\n",
       "    <tr>\n",
       "      <th>Enamorus Incarnate Forme</th>\n",
       "      <td>8</td>\n",
       "      <td>Fairy</td>\n",
       "      <td>Flying</td>\n",
       "      <td>1.6</td>\n",
       "      <td>48.0</td>\n",
       "    </tr>\n",
       "    <tr>\n",
       "      <th>Enamorus Therian Forme</th>\n",
       "      <td>8</td>\n",
       "      <td>Fairy</td>\n",
       "      <td>Flying</td>\n",
       "      <td>1.6</td>\n",
       "      <td>48.0</td>\n",
       "    </tr>\n",
       "  </tbody>\n",
       "</table>\n",
       "<p>1050 rows × 5 columns</p>\n",
       "</div>"
      ],
      "text/plain": [
       "                          Gen    Type 1  Type 2  Height  Weight\n",
       "Bulbasaur                   1     Grass  Poison     0.7     6.9\n",
       "Ivysaur                     1     Grass  Poison     1.0    13.0\n",
       "Venusaur                    1     Grass  Poison     2.0   100.0\n",
       "Mega Venusaur               6     Grass  Poison     2.4   155.5\n",
       "Charmander                  1      Fire             0.6     8.5\n",
       "...                       ...       ...     ...     ...     ...\n",
       "Basculegion                 8     Water   Ghost     3.0   110.0\n",
       "Sneasler                    8  Fighting  Poison     1.3    43.0\n",
       "Overqwil                    8      Dark  Poison     2.5    60.5\n",
       "Enamorus Incarnate Forme    8     Fairy  Flying     1.6    48.0\n",
       "Enamorus Therian Forme      8     Fairy  Flying     1.6    48.0\n",
       "\n",
       "[1050 rows x 5 columns]"
      ]
     },
     "execution_count": 468,
     "metadata": {},
     "output_type": "execute_result"
    }
   ],
   "source": [
    "game.initial_pokedex"
   ]
  },
  {
   "cell_type": "code",
   "execution_count": null,
   "metadata": {},
   "outputs": [],
   "source": [
    "game.apply(pokedex.loc[\"Simipour\"],[\"<\",\"X\",\"X\",\"=\",\">\"])"
   ]
  },
  {
   "cell_type": "code",
   "execution_count": null,
   "metadata": {},
   "outputs": [
    {
     "data": {
      "text/plain": [
       "3.321928094887362"
      ]
     },
     "execution_count": 454,
     "metadata": {},
     "output_type": "execute_result"
    }
   ],
   "source": [
    "game.currentEntropy()"
   ]
  },
  {
   "cell_type": "code",
   "execution_count": null,
   "metadata": {},
   "outputs": [
    {
     "name": "stdout",
     "output_type": "stream",
     "text": [
      "Best guess is  Enamorus Therian Forme  at  0.0\n"
     ]
    },
    {
     "data": {
      "text/plain": [
       "'Enamorus Therian Forme'"
      ]
     },
     "execution_count": 455,
     "metadata": {},
     "output_type": "execute_result"
    }
   ],
   "source": [
    "bestGuess(game.initial_pokedex, game.current_pokedex)"
   ]
  },
  {
   "cell_type": "code",
   "execution_count": null,
   "metadata": {},
   "outputs": [],
   "source": [
    "game.apply(pokedex.loc[\"Nidoqueen\"],[\">\",\"X\",\"X\",\"<\",\">\"])"
   ]
  },
  {
   "cell_type": "code",
   "execution_count": null,
   "metadata": {},
   "outputs": [
    {
     "data": {
      "text/plain": [
       "1.0"
      ]
     },
     "execution_count": 457,
     "metadata": {},
     "output_type": "execute_result"
    }
   ],
   "source": [
    "game.currentEntropy()"
   ]
  },
  {
   "cell_type": "code",
   "execution_count": null,
   "metadata": {},
   "outputs": [
    {
     "data": {
      "text/html": [
       "<div>\n",
       "<style scoped>\n",
       "    .dataframe tbody tr th:only-of-type {\n",
       "        vertical-align: middle;\n",
       "    }\n",
       "\n",
       "    .dataframe tbody tr th {\n",
       "        vertical-align: top;\n",
       "    }\n",
       "\n",
       "    .dataframe thead th {\n",
       "        text-align: right;\n",
       "    }\n",
       "</style>\n",
       "<table border=\"1\" class=\"dataframe\">\n",
       "  <thead>\n",
       "    <tr style=\"text-align: right;\">\n",
       "      <th></th>\n",
       "      <th>Gen</th>\n",
       "      <th>Type 1</th>\n",
       "      <th>Type 2</th>\n",
       "      <th>Height</th>\n",
       "      <th>Weight</th>\n",
       "    </tr>\n",
       "  </thead>\n",
       "  <tbody>\n",
       "    <tr>\n",
       "      <th>Lunatone</th>\n",
       "      <td>3</td>\n",
       "      <td>Rock</td>\n",
       "      <td>Psychic</td>\n",
       "      <td>1.0</td>\n",
       "      <td>168.0</td>\n",
       "    </tr>\n",
       "    <tr>\n",
       "      <th>Spiritomb</th>\n",
       "      <td>4</td>\n",
       "      <td>Ghost</td>\n",
       "      <td>Dark</td>\n",
       "      <td>1.0</td>\n",
       "      <td>108.0</td>\n",
       "    </tr>\n",
       "  </tbody>\n",
       "</table>\n",
       "</div>"
      ],
      "text/plain": [
       "           Gen Type 1   Type 2  Height  Weight\n",
       "Lunatone     3   Rock  Psychic     1.0   168.0\n",
       "Spiritomb    4  Ghost     Dark     1.0   108.0"
      ]
     },
     "execution_count": 458,
     "metadata": {},
     "output_type": "execute_result"
    }
   ],
   "source": [
    "game.current_pokedex"
   ]
  },
  {
   "cell_type": "code",
   "execution_count": null,
   "metadata": {},
   "outputs": [
    {
     "name": "stdout",
     "output_type": "stream",
     "text": [
      "Best guess is  Spiritomb  at  0.0\n"
     ]
    },
    {
     "data": {
      "text/plain": [
       "'Spiritomb'"
      ]
     },
     "execution_count": 459,
     "metadata": {},
     "output_type": "execute_result"
    }
   ],
   "source": [
    "bestGuess(game.current_pokedex, game.current_pokedex)"
   ]
  },
  {
   "cell_type": "markdown",
   "metadata": {},
   "source": [
    "At this point, when there are two possibilities, one can just say whichever. worst - case (like this) will have 2 tries used.</br>\n",
    "Now we can see the solutions for each problem: This will take a lot. To avoid searching for some solution multiple times we can memorize those in a dict </br>\n",
    "This dict will have a associate Guess_1:Result_1,Guess_2:Result:2...Guess_n:Result_n to the best guess for that path"
   ]
  },
  {
   "cell_type": "code",
   "execution_count": null,
   "metadata": {},
   "outputs": [],
   "source": [
    "import json\n",
    "try:\n",
    "    with open('solutionsFull.json',\"r\") as file:\n",
    "        solutions = json.load(file)\n",
    "except:\n",
    "    solutions = dict()"
   ]
  },
  {
   "cell_type": "code",
   "execution_count": null,
   "metadata": {},
   "outputs": [
    {
     "data": {
      "text/html": [
       "<div>\n",
       "<style scoped>\n",
       "    .dataframe tbody tr th:only-of-type {\n",
       "        vertical-align: middle;\n",
       "    }\n",
       "\n",
       "    .dataframe tbody tr th {\n",
       "        vertical-align: top;\n",
       "    }\n",
       "\n",
       "    .dataframe thead th {\n",
       "        text-align: right;\n",
       "    }\n",
       "</style>\n",
       "<table border=\"1\" class=\"dataframe\">\n",
       "  <thead>\n",
       "    <tr style=\"text-align: right;\">\n",
       "      <th></th>\n",
       "      <th>Gen</th>\n",
       "      <th>Type 1</th>\n",
       "      <th>Type 2</th>\n",
       "      <th>Height</th>\n",
       "      <th>Weight</th>\n",
       "    </tr>\n",
       "  </thead>\n",
       "  <tbody>\n",
       "    <tr>\n",
       "      <th>Venusaur</th>\n",
       "      <td>1</td>\n",
       "      <td>Grass</td>\n",
       "      <td>Poison</td>\n",
       "      <td>2.0</td>\n",
       "      <td>100.0</td>\n",
       "    </tr>\n",
       "  </tbody>\n",
       "</table>\n",
       "</div>"
      ],
      "text/plain": [
       "          Gen Type 1  Type 2  Height  Weight\n",
       "Venusaur    1  Grass  Poison     2.0   100.0"
      ]
     },
     "execution_count": 417,
     "metadata": {},
     "output_type": "execute_result"
    }
   ],
   "source": [
    "game.current_pokedex"
   ]
  },
  {
   "cell_type": "code",
   "execution_count": null,
   "metadata": {},
   "outputs": [
    {
     "data": {
      "application/vnd.jupyter.widget-view+json": {
       "model_id": "e25afcad853248889d68f30fe32378b3",
       "version_major": 2,
       "version_minor": 0
      },
      "text/plain": [
       "  0%|          | 0/1050 [00:00<?, ?it/s]"
      ]
     },
     "metadata": {},
     "output_type": "display_data"
    },
    {
     "name": "stdout",
     "output_type": "stream",
     "text": [
      "remaining Entropy 10.036173612553485\n",
      "Applying  Simipour  as it was already found in  \n",
      "remaining Entropy 6.20945336562895\n",
      "Applying  Celebi  as it was already found in  Simipour/<,X,X,<,<-\n",
      "remaining Entropy 1.0\n",
      "Applying  Bulbasaur  as it was already found in  Simipour/<,X,X,<,<-Celebi/<,X,↔,>,>-\n",
      "CORRECT\n",
      "remaining Entropy 10.036173612553485\n",
      "Applying  Simipour  as it was already found in  \n",
      "remaining Entropy 2.807354922057604\n",
      "Applying  Ivysaur  as it was already found in  Simipour/<,X,X,=,<-\n",
      "CORRECT\n",
      "remaining Entropy 10.036173612553485\n",
      "Applying  Simipour  as it was already found in  \n",
      "remaining Entropy 6.442943495848728\n"
     ]
    },
    {
     "ename": "KeyboardInterrupt",
     "evalue": "",
     "output_type": "error",
     "traceback": [
      "\u001b[1;31m---------------------------------------------------------------------------\u001b[0m\n",
      "\u001b[1;31mKeyboardInterrupt\u001b[0m                         Traceback (most recent call last)\n",
      "\u001b[1;32me:\\SquirdleSolver\\solvesquirdle.ipynb Cell 37'\u001b[0m in \u001b[0;36m<cell line: 3>\u001b[1;34m()\u001b[0m\n",
      "\u001b[0;32m     <a href='vscode-notebook-cell:/e%3A/SquirdleSolver/solvesquirdle.ipynb#ch0000038?line=17'>18</a>\u001b[0m         guess \u001b[39m=\u001b[39m bestGuess(game\u001b[39m.\u001b[39mcurrent_pokedex, game\u001b[39m.\u001b[39mcurrent_pokedex)\n",
      "\u001b[0;32m     <a href='vscode-notebook-cell:/e%3A/SquirdleSolver/solvesquirdle.ipynb#ch0000038?line=18'>19</a>\u001b[0m     \u001b[39melse\u001b[39;00m:\n",
      "\u001b[1;32m---> <a href='vscode-notebook-cell:/e%3A/SquirdleSolver/solvesquirdle.ipynb#ch0000038?line=19'>20</a>\u001b[0m         guess \u001b[39m=\u001b[39m bestGuess(game\u001b[39m.\u001b[39;49minitial_pokedex, game\u001b[39m.\u001b[39;49mcurrent_pokedex)\n",
      "\u001b[0;32m     <a href='vscode-notebook-cell:/e%3A/SquirdleSolver/solvesquirdle.ipynb#ch0000038?line=20'>21</a>\u001b[0m     solutions[path] \u001b[39m=\u001b[39m guess\n",
      "\u001b[0;32m     <a href='vscode-notebook-cell:/e%3A/SquirdleSolver/solvesquirdle.ipynb#ch0000038?line=21'>22</a>\u001b[0m result \u001b[39m=\u001b[39m game\u001b[39m.\u001b[39mguessAName(guess)\n",
      "\n",
      "\u001b[1;32me:\\SquirdleSolver\\solvesquirdle.ipynb Cell 24'\u001b[0m in \u001b[0;36mbestGuess\u001b[1;34m(fullPokedex, currentPokedex)\u001b[0m\n",
      "\u001b[0;32m      <a href='vscode-notebook-cell:/e%3A/SquirdleSolver/solvesquirdle.ipynb#ch0000025?line=5'>6</a>\u001b[0m \u001b[39melse\u001b[39;00m:\n",
      "\u001b[0;32m      <a href='vscode-notebook-cell:/e%3A/SquirdleSolver/solvesquirdle.ipynb#ch0000025?line=6'>7</a>\u001b[0m     \u001b[39mfor\u001b[39;00m pokemon \u001b[39min\u001b[39;00m fullPokedex\u001b[39m.\u001b[39mindex:\n",
      "\u001b[1;32m----> <a href='vscode-notebook-cell:/e%3A/SquirdleSolver/solvesquirdle.ipynb#ch0000025?line=7'>8</a>\u001b[0m         entropyReduction \u001b[39m=\u001b[39m calculateExpectedEntropyReduction(currentPokedex, fullPokedex\u001b[39m.\u001b[39;49mloc[pokemon])\n",
      "\u001b[0;32m      <a href='vscode-notebook-cell:/e%3A/SquirdleSolver/solvesquirdle.ipynb#ch0000025?line=8'>9</a>\u001b[0m         \u001b[39mif\u001b[39;00m(entropyReduction \u001b[39m>\u001b[39m bestScore):\n",
      "\u001b[0;32m     <a href='vscode-notebook-cell:/e%3A/SquirdleSolver/solvesquirdle.ipynb#ch0000025?line=9'>10</a>\u001b[0m             bestScore\u001b[39m=\u001b[39mentropy\n",
      "\n",
      "\u001b[1;32me:\\SquirdleSolver\\solvesquirdle.ipynb Cell 18'\u001b[0m in \u001b[0;36mcalculateExpectedEntropyReduction\u001b[1;34m(currentPokedex, guess)\u001b[0m\n",
      "\u001b[0;32m      <a href='vscode-notebook-cell:/e%3A/SquirdleSolver/solvesquirdle.ipynb#ch0000018?line=3'>4</a>\u001b[0m \u001b[39mfor\u001b[39;00m result \u001b[39min\u001b[39;00m possible_results:\n",
      "\u001b[0;32m      <a href='vscode-notebook-cell:/e%3A/SquirdleSolver/solvesquirdle.ipynb#ch0000018?line=4'>5</a>\u001b[0m     \u001b[39mif\u001b[39;00m((\n",
      "\u001b[0;32m      <a href='vscode-notebook-cell:/e%3A/SquirdleSolver/solvesquirdle.ipynb#ch0000018?line=5'>6</a>\u001b[0m             ((result[\u001b[39m1\u001b[39m]\u001b[39m!=\u001b[39m\u001b[39m\"\u001b[39m\u001b[39m↔\u001b[39m\u001b[39m\"\u001b[39m) \u001b[39m|\u001b[39m (result[\u001b[39m2\u001b[39m]\u001b[39m!=\u001b[39m\u001b[39m\"\u001b[39m\u001b[39mO\u001b[39m\u001b[39m\"\u001b[39m)) \u001b[39m&\u001b[39m\n",
      "\u001b[0;32m      <a href='vscode-notebook-cell:/e%3A/SquirdleSolver/solvesquirdle.ipynb#ch0000018?line=6'>7</a>\u001b[0m             ((result[\u001b[39m2\u001b[39m]\u001b[39m!=\u001b[39m\u001b[39m\"\u001b[39m\u001b[39m↔\u001b[39m\u001b[39m\"\u001b[39m) \u001b[39m|\u001b[39m (result[\u001b[39m1\u001b[39m]\u001b[39m!=\u001b[39m\u001b[39m\"\u001b[39m\u001b[39mO\u001b[39m\u001b[39m\"\u001b[39m))\n",
      "\u001b[0;32m      <a href='vscode-notebook-cell:/e%3A/SquirdleSolver/solvesquirdle.ipynb#ch0000018?line=7'>8</a>\u001b[0m         )):\n",
      "\u001b[0;32m      <a href='vscode-notebook-cell:/e%3A/SquirdleSolver/solvesquirdle.ipynb#ch0000018?line=8'>9</a>\u001b[0m         \u001b[39m# That case is impossible given there is no \"Fire, Fire\" pokemons\u001b[39;00m\n",
      "\u001b[1;32m---> <a href='vscode-notebook-cell:/e%3A/SquirdleSolver/solvesquirdle.ipynb#ch0000018?line=9'>10</a>\u001b[0m         reducedPokedex \u001b[39m=\u001b[39m returnPokeFilter(guess,currentPokedex,result)\n",
      "\u001b[0;32m     <a href='vscode-notebook-cell:/e%3A/SquirdleSolver/solvesquirdle.ipynb#ch0000018?line=10'>11</a>\u001b[0m         \u001b[39mif\u001b[39;00m(reducedPokedex\u001b[39m.\u001b[39mshape[\u001b[39m0\u001b[39m]\u001b[39m!=\u001b[39m\u001b[39m0\u001b[39m):\n",
      "\u001b[0;32m     <a href='vscode-notebook-cell:/e%3A/SquirdleSolver/solvesquirdle.ipynb#ch0000018?line=11'>12</a>\u001b[0m             entropy \u001b[39m=\u001b[39m entropy \u001b[39m+\u001b[39m reducedPokedex\u001b[39m.\u001b[39mshape[\u001b[39m0\u001b[39m]\u001b[39m/\u001b[39mcurrentPokedex\u001b[39m.\u001b[39mshape[\u001b[39m0\u001b[39m]\u001b[39m*\u001b[39mInformationGain(currentPokedex\u001b[39m.\u001b[39mshape[\u001b[39m0\u001b[39m],reducedPokedex\u001b[39m.\u001b[39mshape[\u001b[39m0\u001b[39m])\n",
      "\n",
      "\u001b[1;32me:\\SquirdleSolver\\solvesquirdle.ipynb Cell 17'\u001b[0m in \u001b[0;36mreturnPokeFilter\u001b[1;34m(guess, currentPokedex, result)\u001b[0m\n",
      "\u001b[0;32m     <a href='vscode-notebook-cell:/e%3A/SquirdleSolver/solvesquirdle.ipynb#ch0000017?line=26'>27</a>\u001b[0m types1 \u001b[39m=\u001b[39m typesSet(currentPokedex[\u001b[39m\"\u001b[39m\u001b[39mType 1\u001b[39m\u001b[39m\"\u001b[39m])\n",
      "\u001b[0;32m     <a href='vscode-notebook-cell:/e%3A/SquirdleSolver/solvesquirdle.ipynb#ch0000017?line=27'>28</a>\u001b[0m types2 \u001b[39m=\u001b[39m typesSet(currentPokedex[\u001b[39m\"\u001b[39m\u001b[39mType 2\u001b[39m\u001b[39m\"\u001b[39m])\n",
      "\u001b[1;32m---> <a href='vscode-notebook-cell:/e%3A/SquirdleSolver/solvesquirdle.ipynb#ch0000017?line=28'>29</a>\u001b[0m \u001b[39mreturn\u001b[39;00m filterPokedex(currentPokedex,\n",
      "\u001b[0;32m     <a href='vscode-notebook-cell:/e%3A/SquirdleSolver/solvesquirdle.ipynb#ch0000017?line=29'>30</a>\u001b[0m                      applyIntFilter(maxMin(currentPokedex[\u001b[39m\"\u001b[39;49m\u001b[39mGen\u001b[39;49m\u001b[39m\"\u001b[39;49m]),guess[\u001b[39m\"\u001b[39;49m\u001b[39mGen\u001b[39;49m\u001b[39m\"\u001b[39;49m],result[\u001b[39m0\u001b[39;49m]),\n",
      "\u001b[0;32m     <a href='vscode-notebook-cell:/e%3A/SquirdleSolver/solvesquirdle.ipynb#ch0000017?line=30'>31</a>\u001b[0m                      filterTypes(types1,guess[\u001b[39m\"\u001b[39;49m\u001b[39mType 1\u001b[39;49m\u001b[39m\"\u001b[39;49m],guess[\u001b[39m\"\u001b[39;49m\u001b[39mType 2\u001b[39;49m\u001b[39m\"\u001b[39;49m], result[\u001b[39m1\u001b[39;49m], result[\u001b[39m2\u001b[39;49m]),\n",
      "\u001b[0;32m     <a href='vscode-notebook-cell:/e%3A/SquirdleSolver/solvesquirdle.ipynb#ch0000017?line=31'>32</a>\u001b[0m                      filterTypes(types2,guess[\u001b[39m\"\u001b[39;49m\u001b[39mType 2\u001b[39;49m\u001b[39m\"\u001b[39;49m],guess[\u001b[39m\"\u001b[39;49m\u001b[39mType 1\u001b[39;49m\u001b[39m\"\u001b[39;49m], result[\u001b[39m2\u001b[39;49m], result[\u001b[39m1\u001b[39;49m]),\n",
      "\u001b[0;32m     <a href='vscode-notebook-cell:/e%3A/SquirdleSolver/solvesquirdle.ipynb#ch0000017?line=32'>33</a>\u001b[0m                      applyIntFilter(maxMin(currentPokedex[\u001b[39m\"\u001b[39;49m\u001b[39mHeight\u001b[39;49m\u001b[39m\"\u001b[39;49m]),guess[\u001b[39m\"\u001b[39;49m\u001b[39mHeight\u001b[39;49m\u001b[39m\"\u001b[39;49m],result[\u001b[39m3\u001b[39;49m]),\n",
      "\u001b[0;32m     <a href='vscode-notebook-cell:/e%3A/SquirdleSolver/solvesquirdle.ipynb#ch0000017?line=33'>34</a>\u001b[0m                      applyIntFilter(maxMin(currentPokedex[\u001b[39m\"\u001b[39;49m\u001b[39mWeight\u001b[39;49m\u001b[39m\"\u001b[39;49m]),guess[\u001b[39m\"\u001b[39;49m\u001b[39mWeight\u001b[39;49m\u001b[39m\"\u001b[39;49m],result[\u001b[39m4\u001b[39;49m]),\n",
      "\u001b[0;32m     <a href='vscode-notebook-cell:/e%3A/SquirdleSolver/solvesquirdle.ipynb#ch0000017?line=34'>35</a>\u001b[0m                      )\n",
      "\n",
      "\u001b[1;32me:\\SquirdleSolver\\solvesquirdle.ipynb Cell 12'\u001b[0m in \u001b[0;36mfilterPokedex\u001b[1;34m(pokedex, gen, type1, type2, height, weight)\u001b[0m\n",
      "\u001b[0;32m      <a href='vscode-notebook-cell:/e%3A/SquirdleSolver/solvesquirdle.ipynb#ch0000011?line=2'>3</a>\u001b[0m \u001b[39mdef\u001b[39;00m \u001b[39mfilterPokedex\u001b[39m(pokedex, gen, type1, type2, height, weight):\n",
      "\u001b[0;32m      <a href='vscode-notebook-cell:/e%3A/SquirdleSolver/solvesquirdle.ipynb#ch0000011?line=3'>4</a>\u001b[0m     index \u001b[39m=\u001b[39m pokedex\u001b[39m.\u001b[39mindex\n",
      "\u001b[1;32m----> <a href='vscode-notebook-cell:/e%3A/SquirdleSolver/solvesquirdle.ipynb#ch0000011?line=4'>5</a>\u001b[0m     values \u001b[39m=\u001b[39m pokedex\u001b[39m.\u001b[39;49mvalues\u001b[39m.\u001b[39mT\n",
      "\u001b[0;32m      <a href='vscode-notebook-cell:/e%3A/SquirdleSolver/solvesquirdle.ipynb#ch0000011?line=7'>8</a>\u001b[0m     indexes \u001b[39m=\u001b[39m (\n",
      "\u001b[0;32m      <a href='vscode-notebook-cell:/e%3A/SquirdleSolver/solvesquirdle.ipynb#ch0000011?line=8'>9</a>\u001b[0m         (values[\u001b[39m0\u001b[39m]\u001b[39m>\u001b[39m\u001b[39m=\u001b[39mgen[\u001b[39m0\u001b[39m]) \u001b[39m&\u001b[39m (values[\u001b[39m0\u001b[39m] \u001b[39m<\u001b[39m\u001b[39m=\u001b[39mgen[\u001b[39m1\u001b[39m]) \u001b[39m&\u001b[39m \n",
      "\u001b[0;32m     <a href='vscode-notebook-cell:/e%3A/SquirdleSolver/solvesquirdle.ipynb#ch0000011?line=9'>10</a>\u001b[0m         isin(type1)(values[\u001b[39m1\u001b[39m]) \u001b[39m&\u001b[39m isin(type2)(values[\u001b[39m2\u001b[39m]) \u001b[39m&\u001b[39m\n",
      "\u001b[0;32m     <a href='vscode-notebook-cell:/e%3A/SquirdleSolver/solvesquirdle.ipynb#ch0000011?line=10'>11</a>\u001b[0m         (values[\u001b[39m3\u001b[39m]\u001b[39m>\u001b[39m\u001b[39m=\u001b[39mheight[\u001b[39m0\u001b[39m]) \u001b[39m&\u001b[39m (values[\u001b[39m3\u001b[39m]\u001b[39m<\u001b[39m\u001b[39m=\u001b[39mheight[\u001b[39m1\u001b[39m]) \u001b[39m&\u001b[39m\n",
      "\u001b[0;32m     <a href='vscode-notebook-cell:/e%3A/SquirdleSolver/solvesquirdle.ipynb#ch0000011?line=11'>12</a>\u001b[0m         (values[\u001b[39m4\u001b[39m]\u001b[39m>\u001b[39m\u001b[39m=\u001b[39mweight[\u001b[39m0\u001b[39m]) \u001b[39m&\u001b[39m (values[\u001b[39m4\u001b[39m]\u001b[39m<\u001b[39m\u001b[39m=\u001b[39mweight[\u001b[39m1\u001b[39m]))\n",
      "\u001b[0;32m     <a href='vscode-notebook-cell:/e%3A/SquirdleSolver/solvesquirdle.ipynb#ch0000011?line=12'>13</a>\u001b[0m     \u001b[39mreturn\u001b[39;00m pokedex\u001b[39m.\u001b[39mloc[index[indexes]]\n",
      "\n",
      "File \u001b[1;32me:\\Python\\Anaconda3\\envs\\latest_python\\lib\\site-packages\\pandas\\core\\frame.py:10877\u001b[0m, in \u001b[0;36mDataFrame.values\u001b[1;34m(self)\u001b[0m\n",
      "\u001b[0;32m  <a href='file:///e%3A/Python/Anaconda3/envs/latest_python/lib/site-packages/pandas/core/frame.py?line=10803'>10804</a>\u001b[0m \u001b[39m\"\"\"\u001b[39;00m\n",
      "\u001b[0;32m  <a href='file:///e%3A/Python/Anaconda3/envs/latest_python/lib/site-packages/pandas/core/frame.py?line=10804'>10805</a>\u001b[0m \u001b[39mReturn a Numpy representation of the DataFrame.\u001b[39;00m\n",
      "\u001b[0;32m  <a href='file:///e%3A/Python/Anaconda3/envs/latest_python/lib/site-packages/pandas/core/frame.py?line=10805'>10806</a>\u001b[0m \n",
      "\u001b[1;32m   (...)\u001b[0m\n",
      "\u001b[0;32m  <a href='file:///e%3A/Python/Anaconda3/envs/latest_python/lib/site-packages/pandas/core/frame.py?line=10873'>10874</a>\u001b[0m \u001b[39m       ['monkey', nan, None]], dtype=object)\u001b[39;00m\n",
      "\u001b[0;32m  <a href='file:///e%3A/Python/Anaconda3/envs/latest_python/lib/site-packages/pandas/core/frame.py?line=10874'>10875</a>\u001b[0m \u001b[39m\"\"\"\u001b[39;00m\n",
      "\u001b[0;32m  <a href='file:///e%3A/Python/Anaconda3/envs/latest_python/lib/site-packages/pandas/core/frame.py?line=10875'>10876</a>\u001b[0m \u001b[39mself\u001b[39m\u001b[39m.\u001b[39m_consolidate_inplace()\n",
      "\u001b[1;32m> <a href='file:///e%3A/Python/Anaconda3/envs/latest_python/lib/site-packages/pandas/core/frame.py?line=10876'>10877</a>\u001b[0m \u001b[39mreturn\u001b[39;00m \u001b[39mself\u001b[39;49m\u001b[39m.\u001b[39;49m_mgr\u001b[39m.\u001b[39;49mas_array()\n",
      "\n",
      "File \u001b[1;32me:\\Python\\Anaconda3\\envs\\latest_python\\lib\\site-packages\\pandas\\core\\internals\\managers.py:1589\u001b[0m, in \u001b[0;36mBlockManager.as_array\u001b[1;34m(self, dtype, copy, na_value)\u001b[0m\n",
      "\u001b[0;32m   <a href='file:///e%3A/Python/Anaconda3/envs/latest_python/lib/site-packages/pandas/core/internals/managers.py?line=1586'>1587</a>\u001b[0m             arr \u001b[39m=\u001b[39m arr\u001b[39m.\u001b[39mastype(dtype, copy\u001b[39m=\u001b[39m\u001b[39mFalse\u001b[39;00m)\n",
      "\u001b[0;32m   <a href='file:///e%3A/Python/Anaconda3/envs/latest_python/lib/site-packages/pandas/core/internals/managers.py?line=1587'>1588</a>\u001b[0m \u001b[39melse\u001b[39;00m:\n",
      "\u001b[1;32m-> <a href='file:///e%3A/Python/Anaconda3/envs/latest_python/lib/site-packages/pandas/core/internals/managers.py?line=1588'>1589</a>\u001b[0m     arr \u001b[39m=\u001b[39m \u001b[39mself\u001b[39;49m\u001b[39m.\u001b[39;49m_interleave(dtype\u001b[39m=\u001b[39;49mdtype, na_value\u001b[39m=\u001b[39;49mna_value)\n",
      "\u001b[0;32m   <a href='file:///e%3A/Python/Anaconda3/envs/latest_python/lib/site-packages/pandas/core/internals/managers.py?line=1589'>1590</a>\u001b[0m     \u001b[39m# The underlying data was copied within _interleave\u001b[39;00m\n",
      "\u001b[0;32m   <a href='file:///e%3A/Python/Anaconda3/envs/latest_python/lib/site-packages/pandas/core/internals/managers.py?line=1590'>1591</a>\u001b[0m     copy \u001b[39m=\u001b[39m \u001b[39mFalse\u001b[39;00m\n",
      "\n",
      "File \u001b[1;32me:\\Python\\Anaconda3\\envs\\latest_python\\lib\\site-packages\\pandas\\core\\internals\\managers.py:1628\u001b[0m, in \u001b[0;36mBlockManager._interleave\u001b[1;34m(self, dtype, na_value)\u001b[0m\n",
      "\u001b[0;32m   <a href='file:///e%3A/Python/Anaconda3/envs/latest_python/lib/site-packages/pandas/core/internals/managers.py?line=1624'>1625</a>\u001b[0m \u001b[39melif\u001b[39;00m is_dtype_equal(dtype, \u001b[39mstr\u001b[39m):\n",
      "\u001b[0;32m   <a href='file:///e%3A/Python/Anaconda3/envs/latest_python/lib/site-packages/pandas/core/internals/managers.py?line=1625'>1626</a>\u001b[0m     dtype \u001b[39m=\u001b[39m np\u001b[39m.\u001b[39mdtype(\u001b[39m\"\u001b[39m\u001b[39mobject\u001b[39m\u001b[39m\"\u001b[39m)\n",
      "\u001b[1;32m-> <a href='file:///e%3A/Python/Anaconda3/envs/latest_python/lib/site-packages/pandas/core/internals/managers.py?line=1627'>1628</a>\u001b[0m result \u001b[39m=\u001b[39m np\u001b[39m.\u001b[39;49mempty(\u001b[39mself\u001b[39;49m\u001b[39m.\u001b[39;49mshape, dtype\u001b[39m=\u001b[39;49mdtype)\n",
      "\u001b[0;32m   <a href='file:///e%3A/Python/Anaconda3/envs/latest_python/lib/site-packages/pandas/core/internals/managers.py?line=1629'>1630</a>\u001b[0m itemmask \u001b[39m=\u001b[39m np\u001b[39m.\u001b[39mzeros(\u001b[39mself\u001b[39m\u001b[39m.\u001b[39mshape[\u001b[39m0\u001b[39m])\n",
      "\u001b[0;32m   <a href='file:///e%3A/Python/Anaconda3/envs/latest_python/lib/site-packages/pandas/core/internals/managers.py?line=1631'>1632</a>\u001b[0m \u001b[39mif\u001b[39;00m dtype \u001b[39m==\u001b[39m np\u001b[39m.\u001b[39mdtype(\u001b[39m\"\u001b[39m\u001b[39mobject\u001b[39m\u001b[39m\"\u001b[39m) \u001b[39mand\u001b[39;00m na_value \u001b[39mis\u001b[39;00m lib\u001b[39m.\u001b[39mno_default:\n",
      "\u001b[0;32m   <a href='file:///e%3A/Python/Anaconda3/envs/latest_python/lib/site-packages/pandas/core/internals/managers.py?line=1632'>1633</a>\u001b[0m     \u001b[39m# much more performant than using to_numpy below\u001b[39;00m\n",
      "\n",
      "\u001b[1;31mKeyboardInterrupt\u001b[0m: "
     ]
    }
   ],
   "source": [
    "performanceInfo = dict()\n",
    "for pokemon in tqdm(pokedex.index):\n",
    "    game = Squirdle(pokedex, pokemon)\n",
    "    path = \"\"\n",
    "    result = \"\"\n",
    "    tries = 0\n",
    "    while(result!=\"Correct\"):\n",
    "        tries+=1\n",
    "        entropy=game.currentEntropy()\n",
    "        print(\"remaining Entropy\", entropy)\n",
    "        if(path in solutions):\n",
    "            guess = solutions[path]\n",
    "            print(\"Applying \", guess, \" as it was already found in \",path)\n",
    "        else:\n",
    "            if(entropy<=1.5):\n",
    "                # When entropy is low enough, avoid losing time\n",
    "                guess = bestGuess(game.current_pokedex, game.current_pokedex)\n",
    "            else:\n",
    "                guess = bestGuess(game.initial_pokedex, game.current_pokedex)\n",
    "            solutions[path] = guess\n",
    "        result = game.guessAName(guess)\n",
    "        path += guess+\"/\"+\",\".join(result)+\"-\"\n",
    "    print(\"CORRECT\")\n",
    "    performanceInfo = {\n",
    "        \"pokemon\":pokemon,\n",
    "        \"path\":path,\n",
    "        \"tries\":tries\n",
    "    }\n",
    "    \n",
    "    with open('solutionsFull.json',\"w\") as file:\n",
    "        json.dump(solutions,file)\n",
    "    \n"
   ]
  },
  {
   "cell_type": "code",
   "execution_count": null,
   "metadata": {},
   "outputs": [],
   "source": [
    "game = Squirdle(pokedex, pokemon)"
   ]
  },
  {
   "cell_type": "code",
   "execution_count": null,
   "metadata": {},
   "outputs": [
    {
     "data": {
      "text/plain": [
       "'Simipour/<,X,X,>,>-Claydol/<,X,X,>,<-Charizard/=,X,X,>,>-'"
      ]
     },
     "execution_count": 420,
     "metadata": {},
     "output_type": "execute_result"
    }
   ],
   "source": [
    "path"
   ]
  },
  {
   "cell_type": "code",
   "execution_count": null,
   "metadata": {},
   "outputs": [
    {
     "data": {
      "text/plain": [
       "['<', 'X', 'X', '>', '>']"
      ]
     },
     "execution_count": 421,
     "metadata": {},
     "output_type": "execute_result"
    }
   ],
   "source": [
    "game.guessAName('Simipour')"
   ]
  },
  {
   "cell_type": "code",
   "execution_count": null,
   "metadata": {},
   "outputs": [
    {
     "data": {
      "text/html": [
       "<div>\n",
       "<style scoped>\n",
       "    .dataframe tbody tr th:only-of-type {\n",
       "        vertical-align: middle;\n",
       "    }\n",
       "\n",
       "    .dataframe tbody tr th {\n",
       "        vertical-align: top;\n",
       "    }\n",
       "\n",
       "    .dataframe thead th {\n",
       "        text-align: right;\n",
       "    }\n",
       "</style>\n",
       "<table border=\"1\" class=\"dataframe\">\n",
       "  <thead>\n",
       "    <tr style=\"text-align: right;\">\n",
       "      <th></th>\n",
       "      <th>Gen</th>\n",
       "      <th>Type 1</th>\n",
       "      <th>Type 2</th>\n",
       "      <th>Height</th>\n",
       "      <th>Weight</th>\n",
       "    </tr>\n",
       "  </thead>\n",
       "  <tbody>\n",
       "    <tr>\n",
       "      <th>Venusaur</th>\n",
       "      <td>1</td>\n",
       "      <td>Grass</td>\n",
       "      <td>Poison</td>\n",
       "      <td>2.0</td>\n",
       "      <td>100.0</td>\n",
       "    </tr>\n",
       "    <tr>\n",
       "      <th>Charizard</th>\n",
       "      <td>1</td>\n",
       "      <td>Fire</td>\n",
       "      <td>Flying</td>\n",
       "      <td>1.7</td>\n",
       "      <td>90.5</td>\n",
       "    </tr>\n",
       "    <tr>\n",
       "      <th>Butterfree</th>\n",
       "      <td>1</td>\n",
       "      <td>Bug</td>\n",
       "      <td>Flying</td>\n",
       "      <td>1.1</td>\n",
       "      <td>32.0</td>\n",
       "    </tr>\n",
       "    <tr>\n",
       "      <th>Pidgeotto</th>\n",
       "      <td>1</td>\n",
       "      <td>Normal</td>\n",
       "      <td>Flying</td>\n",
       "      <td>1.1</td>\n",
       "      <td>30.0</td>\n",
       "    </tr>\n",
       "    <tr>\n",
       "      <th>Pidgeot</th>\n",
       "      <td>1</td>\n",
       "      <td>Normal</td>\n",
       "      <td>Flying</td>\n",
       "      <td>1.5</td>\n",
       "      <td>39.5</td>\n",
       "    </tr>\n",
       "    <tr>\n",
       "      <th>...</th>\n",
       "      <td>...</td>\n",
       "      <td>...</td>\n",
       "      <td>...</td>\n",
       "      <td>...</td>\n",
       "      <td>...</td>\n",
       "    </tr>\n",
       "    <tr>\n",
       "      <th>Probopass</th>\n",
       "      <td>4</td>\n",
       "      <td>Rock</td>\n",
       "      <td>Steel</td>\n",
       "      <td>1.4</td>\n",
       "      <td>340.0</td>\n",
       "    </tr>\n",
       "    <tr>\n",
       "      <th>Dialga</th>\n",
       "      <td>4</td>\n",
       "      <td>Steel</td>\n",
       "      <td>Dragon</td>\n",
       "      <td>5.4</td>\n",
       "      <td>683.0</td>\n",
       "    </tr>\n",
       "    <tr>\n",
       "      <th>Heatran</th>\n",
       "      <td>4</td>\n",
       "      <td>Fire</td>\n",
       "      <td>Steel</td>\n",
       "      <td>1.7</td>\n",
       "      <td>430.0</td>\n",
       "    </tr>\n",
       "    <tr>\n",
       "      <th>Giratina Altered Forme</th>\n",
       "      <td>4</td>\n",
       "      <td>Ghost</td>\n",
       "      <td>Dragon</td>\n",
       "      <td>4.5</td>\n",
       "      <td>750.0</td>\n",
       "    </tr>\n",
       "    <tr>\n",
       "      <th>Giratina Origin Forme</th>\n",
       "      <td>4</td>\n",
       "      <td>Ghost</td>\n",
       "      <td>Dragon</td>\n",
       "      <td>6.9</td>\n",
       "      <td>650.0</td>\n",
       "    </tr>\n",
       "  </tbody>\n",
       "</table>\n",
       "<p>87 rows × 5 columns</p>\n",
       "</div>"
      ],
      "text/plain": [
       "                        Gen  Type 1  Type 2  Height  Weight\n",
       "Venusaur                  1   Grass  Poison     2.0   100.0\n",
       "Charizard                 1    Fire  Flying     1.7    90.5\n",
       "Butterfree                1     Bug  Flying     1.1    32.0\n",
       "Pidgeotto                 1  Normal  Flying     1.1    30.0\n",
       "Pidgeot                   1  Normal  Flying     1.5    39.5\n",
       "...                     ...     ...     ...     ...     ...\n",
       "Probopass                 4    Rock   Steel     1.4   340.0\n",
       "Dialga                    4   Steel  Dragon     5.4   683.0\n",
       "Heatran                   4    Fire   Steel     1.7   430.0\n",
       "Giratina Altered Forme    4   Ghost  Dragon     4.5   750.0\n",
       "Giratina Origin Forme     4   Ghost  Dragon     6.9   650.0\n",
       "\n",
       "[87 rows x 5 columns]"
      ]
     },
     "execution_count": 422,
     "metadata": {},
     "output_type": "execute_result"
    }
   ],
   "source": [
    "game.current_pokedex"
   ]
  },
  {
   "cell_type": "code",
   "execution_count": null,
   "metadata": {},
   "outputs": [
    {
     "data": {
      "text/plain": [
       "['<', 'X', 'X', '>', '<']"
      ]
     },
     "execution_count": 423,
     "metadata": {},
     "output_type": "execute_result"
    }
   ],
   "source": [
    "game.guessAName('Claydol')"
   ]
  },
  {
   "cell_type": "code",
   "execution_count": null,
   "metadata": {},
   "outputs": [
    {
     "data": {
      "text/html": [
       "<div>\n",
       "<style scoped>\n",
       "    .dataframe tbody tr th:only-of-type {\n",
       "        vertical-align: middle;\n",
       "    }\n",
       "\n",
       "    .dataframe tbody tr th {\n",
       "        vertical-align: top;\n",
       "    }\n",
       "\n",
       "    .dataframe thead th {\n",
       "        text-align: right;\n",
       "    }\n",
       "</style>\n",
       "<table border=\"1\" class=\"dataframe\">\n",
       "  <thead>\n",
       "    <tr style=\"text-align: right;\">\n",
       "      <th></th>\n",
       "      <th>Gen</th>\n",
       "      <th>Type 1</th>\n",
       "      <th>Type 2</th>\n",
       "      <th>Height</th>\n",
       "      <th>Weight</th>\n",
       "    </tr>\n",
       "  </thead>\n",
       "  <tbody>\n",
       "    <tr>\n",
       "      <th>Venusaur</th>\n",
       "      <td>1</td>\n",
       "      <td>Grass</td>\n",
       "      <td>Poison</td>\n",
       "      <td>2.0</td>\n",
       "      <td>100.0</td>\n",
       "    </tr>\n",
       "    <tr>\n",
       "      <th>Charizard</th>\n",
       "      <td>1</td>\n",
       "      <td>Fire</td>\n",
       "      <td>Flying</td>\n",
       "      <td>1.7</td>\n",
       "      <td>90.5</td>\n",
       "    </tr>\n",
       "    <tr>\n",
       "      <th>Golbat</th>\n",
       "      <td>1</td>\n",
       "      <td>Poison</td>\n",
       "      <td>Flying</td>\n",
       "      <td>1.6</td>\n",
       "      <td>55.0</td>\n",
       "    </tr>\n",
       "    <tr>\n",
       "      <th>Dodrio</th>\n",
       "      <td>1</td>\n",
       "      <td>Normal</td>\n",
       "      <td>Flying</td>\n",
       "      <td>1.8</td>\n",
       "      <td>85.2</td>\n",
       "    </tr>\n",
       "    <tr>\n",
       "      <th>Aerodactyl</th>\n",
       "      <td>1</td>\n",
       "      <td>Rock</td>\n",
       "      <td>Flying</td>\n",
       "      <td>1.8</td>\n",
       "      <td>59.0</td>\n",
       "    </tr>\n",
       "    <tr>\n",
       "      <th>Articuno</th>\n",
       "      <td>1</td>\n",
       "      <td>Ice</td>\n",
       "      <td>Flying</td>\n",
       "      <td>1.7</td>\n",
       "      <td>55.4</td>\n",
       "    </tr>\n",
       "    <tr>\n",
       "      <th>Zapdos</th>\n",
       "      <td>1</td>\n",
       "      <td>Electric</td>\n",
       "      <td>Flying</td>\n",
       "      <td>1.6</td>\n",
       "      <td>52.6</td>\n",
       "    </tr>\n",
       "    <tr>\n",
       "      <th>Moltres</th>\n",
       "      <td>1</td>\n",
       "      <td>Fire</td>\n",
       "      <td>Flying</td>\n",
       "      <td>2.0</td>\n",
       "      <td>60.0</td>\n",
       "    </tr>\n",
       "    <tr>\n",
       "      <th>Noctowl</th>\n",
       "      <td>2</td>\n",
       "      <td>Normal</td>\n",
       "      <td>Flying</td>\n",
       "      <td>1.6</td>\n",
       "      <td>40.8</td>\n",
       "    </tr>\n",
       "    <tr>\n",
       "      <th>Crobat</th>\n",
       "      <td>2</td>\n",
       "      <td>Poison</td>\n",
       "      <td>Flying</td>\n",
       "      <td>1.8</td>\n",
       "      <td>75.0</td>\n",
       "    </tr>\n",
       "    <tr>\n",
       "      <th>Skarmory</th>\n",
       "      <td>2</td>\n",
       "      <td>Steel</td>\n",
       "      <td>Flying</td>\n",
       "      <td>1.7</td>\n",
       "      <td>50.5</td>\n",
       "    </tr>\n",
       "  </tbody>\n",
       "</table>\n",
       "</div>"
      ],
      "text/plain": [
       "            Gen    Type 1  Type 2  Height  Weight\n",
       "Venusaur      1     Grass  Poison     2.0   100.0\n",
       "Charizard     1      Fire  Flying     1.7    90.5\n",
       "Golbat        1    Poison  Flying     1.6    55.0\n",
       "Dodrio        1    Normal  Flying     1.8    85.2\n",
       "Aerodactyl    1      Rock  Flying     1.8    59.0\n",
       "Articuno      1       Ice  Flying     1.7    55.4\n",
       "Zapdos        1  Electric  Flying     1.6    52.6\n",
       "Moltres       1      Fire  Flying     2.0    60.0\n",
       "Noctowl       2    Normal  Flying     1.6    40.8\n",
       "Crobat        2    Poison  Flying     1.8    75.0\n",
       "Skarmory      2     Steel  Flying     1.7    50.5"
      ]
     },
     "execution_count": 424,
     "metadata": {},
     "output_type": "execute_result"
    }
   ],
   "source": [
    "game.current_pokedex"
   ]
  },
  {
   "cell_type": "code",
   "execution_count": null,
   "metadata": {},
   "outputs": [
    {
     "data": {
      "text/plain": [
       "['=', 'X', 'X', '>', '>']"
      ]
     },
     "execution_count": 425,
     "metadata": {},
     "output_type": "execute_result"
    }
   ],
   "source": [
    "game.guessAName('Charizard')"
   ]
  },
  {
   "cell_type": "code",
   "execution_count": null,
   "metadata": {},
   "outputs": [
    {
     "data": {
      "text/html": [
       "<div>\n",
       "<style scoped>\n",
       "    .dataframe tbody tr th:only-of-type {\n",
       "        vertical-align: middle;\n",
       "    }\n",
       "\n",
       "    .dataframe tbody tr th {\n",
       "        vertical-align: top;\n",
       "    }\n",
       "\n",
       "    .dataframe thead th {\n",
       "        text-align: right;\n",
       "    }\n",
       "</style>\n",
       "<table border=\"1\" class=\"dataframe\">\n",
       "  <thead>\n",
       "    <tr style=\"text-align: right;\">\n",
       "      <th></th>\n",
       "      <th>Gen</th>\n",
       "      <th>Type 1</th>\n",
       "      <th>Type 2</th>\n",
       "      <th>Height</th>\n",
       "      <th>Weight</th>\n",
       "    </tr>\n",
       "  </thead>\n",
       "  <tbody>\n",
       "    <tr>\n",
       "      <th>Venusaur</th>\n",
       "      <td>1</td>\n",
       "      <td>Grass</td>\n",
       "      <td>Poison</td>\n",
       "      <td>2.0</td>\n",
       "      <td>100.0</td>\n",
       "    </tr>\n",
       "  </tbody>\n",
       "</table>\n",
       "</div>"
      ],
      "text/plain": [
       "          Gen Type 1  Type 2  Height  Weight\n",
       "Venusaur    1  Grass  Poison     2.0   100.0"
      ]
     },
     "execution_count": 426,
     "metadata": {},
     "output_type": "execute_result"
    }
   ],
   "source": [
    "game.current_pokedex"
   ]
  },
  {
   "cell_type": "code",
   "execution_count": null,
   "metadata": {},
   "outputs": [
    {
     "name": "stdout",
     "output_type": "stream",
     "text": [
      "Best guess is    at  0\n"
     ]
    },
    {
     "data": {
      "text/plain": [
       "''"
      ]
     },
     "execution_count": 427,
     "metadata": {},
     "output_type": "execute_result"
    }
   ],
   "source": [
    "bestGuess(game.current_pokedex, game.current_pokedex)"
   ]
  },
  {
   "cell_type": "code",
   "execution_count": null,
   "metadata": {},
   "outputs": [],
   "source": []
  }
 ],
 "metadata": {
  "interpreter": {
   "hash": "54c31d377af459a8ffaf4eedbcf8d5c9cc64105ef610e281c84d3cd238c8cac7"
  },
  "kernelspec": {
   "display_name": "Python 3.9.7 ('latest_python')",
   "language": "python",
   "name": "python3"
  },
  "language_info": {
   "codemirror_mode": {
    "name": "ipython",
    "version": 3
   },
   "file_extension": ".py",
   "mimetype": "text/x-python",
   "name": "python",
   "nbconvert_exporter": "python",
   "pygments_lexer": "ipython3",
   "version": "3.9.7"
  },
  "orig_nbformat": 4
 },
 "nbformat": 4,
 "nbformat_minor": 2
}
