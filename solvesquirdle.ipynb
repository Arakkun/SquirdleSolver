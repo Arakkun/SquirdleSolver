{
 "cells": [
  {
   "cell_type": "markdown",
   "metadata": {},
   "source": [
    "# Based on https://www.youtube.com/watch?v=v68zYyaEmEA\n",
    "We can try solving squirdle using information theory.\n",
    "given the smaller search space and the type of things to guess this will be much easier.\n",
    "\n",
    "Each entry has 5 fields:\n",
    "- Gen: from 1 to 8. Result of a guess can be More(+), Less(-) or Equal(=) \n",
    "- Type 1: categorial. Result of a guess can be Not Correct(X), Different Place(<>) or Equal (=)\n",
    "- Type 2: categorial. Result of a guess can be Not Correct(X), Different Place(<>) or Equal (=)\n",
    "- Height: float number. Result of a guess can be More(+), Less(-) or Equal(=) \n",
    "- Weight: float number. Result of a guess can be More(+), Less(-) or Equal(=) \n",
    "\n",
    "But differently, every result is as likely as others ( meaning the probability of the answer being Squirtle is the same as being Charmender ) \n",
    "So the \"information gain\" will just be equal to log(N_AFTER/N_BEFORE) as probability of a certain result being possility is N_AFTER/N_BEFORE.\n",
    "The entropy will be just the \"average\" information gain"
   ]
  },
  {
   "cell_type": "code",
   "execution_count": 3,
   "metadata": {},
   "outputs": [],
   "source": [
    "import pandas as pd\n",
    "from IPython.display import Markdown, display\n",
    "def printWithMarkdown(string:str):\n",
    "    display(Markdown(string))\n",
    "\n",
    "def printDfWithMarkdown(df:pd.DataFrame):\n",
    "    printWithMarkdown(df.to_markdown())"
   ]
  },
  {
   "cell_type": "code",
   "execution_count": 8,
   "metadata": {},
   "outputs": [],
   "source": [
    "pokedex = pd.read_json(\"pokedex.json\", orient='index')\n",
    "pokedex.columns=[\"Gen\",\"Type 1\",\"Type 2\", \"Height\",\"Weight\"]"
   ]
  },
  {
   "cell_type": "code",
   "execution_count": 15,
   "metadata": {},
   "outputs": [
    {
     "data": {
      "text/markdown": [
       "|           |   Gen | Type 1   | Type 2   |   Height |   Weight |\n",
       "|:----------|------:|:---------|:---------|---------:|---------:|\n",
       "| Zigzagoon |     3 | Normal   |          |      0.4 |     17.5 |\n",
       "| Linoone   |     3 | Normal   |          |      0.5 |     32.5 |\n",
       "| Slakoth   |     3 | Normal   |          |      0.8 |     24   |\n",
       "| Vigoroth  |     3 | Normal   |          |      1.4 |     46.5 |\n",
       "| Slaking   |     3 | Normal   |          |      2   |    130.5 |\n",
       "| Whismur   |     3 | Normal   |          |      0.6 |     16.3 |\n",
       "| Loudred   |     3 | Normal   |          |      1   |     40.5 |\n",
       "| Exploud   |     3 | Normal   |          |      1.5 |     84   |\n",
       "| Skitty    |     3 | Normal   |          |      0.6 |     11   |\n",
       "| Delcatty  |     3 | Normal   |          |      1.1 |     32.6 |\n",
       "| Spinda    |     3 | Normal   |          |      1.1 |      5   |\n",
       "| Zangoose  |     3 | Normal   |          |      1.3 |     40.3 |\n",
       "| Castform  |     3 | Normal   |          |      0.3 |      0.8 |\n",
       "| Kecleon   |     3 | Normal   |          |      1   |     22   |"
      ],
      "text/plain": [
       "<IPython.core.display.Markdown object>"
      ]
     },
     "metadata": {},
     "output_type": "display_data"
    }
   ],
   "source": [
    "printDfWithMarkdown(pokedex[(pokedex[\"Gen\"]==3) & (pokedex[\"Type 1\"]==\"Normal\") &(pokedex[\"Type 2\"]==\"\")])"
   ]
  },
  {
   "cell_type": "code",
   "execution_count": null,
   "metadata": {},
   "outputs": [],
   "source": []
  }
 ],
 "metadata": {
  "interpreter": {
   "hash": "54c31d377af459a8ffaf4eedbcf8d5c9cc64105ef610e281c84d3cd238c8cac7"
  },
  "kernelspec": {
   "display_name": "Python 3.9.7 ('latest_python')",
   "language": "python",
   "name": "python3"
  },
  "language_info": {
   "codemirror_mode": {
    "name": "ipython",
    "version": 3
   },
   "file_extension": ".py",
   "mimetype": "text/x-python",
   "name": "python",
   "nbconvert_exporter": "python",
   "pygments_lexer": "ipython3",
   "version": "3.9.7"
  },
  "orig_nbformat": 4
 },
 "nbformat": 4,
 "nbformat_minor": 2
}
